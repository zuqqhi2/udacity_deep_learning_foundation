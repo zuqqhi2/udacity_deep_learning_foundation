{
 "cells": [
  {
   "cell_type": "markdown",
   "metadata": {
    "collapsed": true
   },
   "source": [
    "# Image Classification\n",
    "In this project, you'll classify images from the [CIFAR-10 dataset](https://www.cs.toronto.edu/~kriz/cifar.html).  The dataset consists of airplanes, dogs, cats, and other objects. You'll preprocess the images, then train a convolutional neural network on all the samples. The images need to be normalized and the labels need to be one-hot encoded.  You'll get to apply what you learned and build a convolutional, max pooling, dropout, and fully connected layers.  At the end, you'll get to see your neural network's predictions on the sample images.\n",
    "## Get the Data\n",
    "Run the following cell to download the [CIFAR-10 dataset for python](https://www.cs.toronto.edu/~kriz/cifar-10-python.tar.gz)."
   ]
  },
  {
   "cell_type": "code",
   "execution_count": 1,
   "metadata": {},
   "outputs": [
    {
     "name": "stdout",
     "output_type": "stream",
     "text": [
      "All files found!\n"
     ]
    }
   ],
   "source": [
    "\"\"\"\n",
    "DON'T MODIFY ANYTHING IN THIS CELL THAT IS BELOW THIS LINE\n",
    "\"\"\"\n",
    "from urllib.request import urlretrieve\n",
    "from os.path import isfile, isdir\n",
    "from tqdm import tqdm\n",
    "import problem_unittests as tests\n",
    "import tarfile\n",
    "\n",
    "cifar10_dataset_folder_path = 'cifar-10-batches-py'\n",
    "\n",
    "# Use Floyd's cifar-10 dataset if present\n",
    "floyd_cifar10_location = '/input/cifar-10/python.tar.gz'\n",
    "if isfile(floyd_cifar10_location):\n",
    "    tar_gz_path = floyd_cifar10_location\n",
    "else:\n",
    "    tar_gz_path = 'cifar-10-python.tar.gz'\n",
    "\n",
    "class DLProgress(tqdm):\n",
    "    last_block = 0\n",
    "\n",
    "    def hook(self, block_num=1, block_size=1, total_size=None):\n",
    "        self.total = total_size\n",
    "        self.update((block_num - self.last_block) * block_size)\n",
    "        self.last_block = block_num\n",
    "\n",
    "if not isfile(tar_gz_path):\n",
    "    with DLProgress(unit='B', unit_scale=True, miniters=1, desc='CIFAR-10 Dataset') as pbar:\n",
    "        urlretrieve(\n",
    "            'https://www.cs.toronto.edu/~kriz/cifar-10-python.tar.gz',\n",
    "            tar_gz_path,\n",
    "            pbar.hook)\n",
    "\n",
    "if not isdir(cifar10_dataset_folder_path):\n",
    "    with tarfile.open(tar_gz_path) as tar:\n",
    "        tar.extractall()\n",
    "        tar.close()\n",
    "\n",
    "\n",
    "tests.test_folder_path(cifar10_dataset_folder_path)"
   ]
  },
  {
   "cell_type": "markdown",
   "metadata": {},
   "source": [
    "## Explore the Data\n",
    "The dataset is broken into batches to prevent your machine from running out of memory.  The CIFAR-10 dataset consists of 5 batches, named `data_batch_1`, `data_batch_2`, etc.. Each batch contains the labels and images that are one of the following:\n",
    "* airplane\n",
    "* automobile\n",
    "* bird\n",
    "* cat\n",
    "* deer\n",
    "* dog\n",
    "* frog\n",
    "* horse\n",
    "* ship\n",
    "* truck\n",
    "\n",
    "Understanding a dataset is part of making predictions on the data.  Play around with the code cell below by changing the `batch_id` and `sample_id`. The `batch_id` is the id for a batch (1-5). The `sample_id` is the id for a image and label pair in the batch.\n",
    "\n",
    "Ask yourself \"What are all possible labels?\", \"What is the range of values for the image data?\", \"Are the labels in order or random?\".  Answers to questions like these will help you preprocess the data and end up with better predictions."
   ]
  },
  {
   "cell_type": "code",
   "execution_count": 2,
   "metadata": {},
   "outputs": [
    {
     "name": "stdout",
     "output_type": "stream",
     "text": [
      "\n",
      "Stats of batch 3:\n",
      "Samples: 10000\n",
      "Label Counts: {0: 994, 1: 1042, 2: 965, 3: 997, 4: 990, 5: 1029, 6: 978, 7: 1015, 8: 961, 9: 1029}\n",
      "First 20 Labels: [8, 5, 0, 6, 9, 2, 8, 3, 6, 2, 7, 4, 6, 9, 0, 0, 7, 3, 7, 2]\n",
      "\n",
      "Example of Image 126:\n",
      "Image - Min Value: 27 Max Value: 255\n",
      "Image - Shape: (32, 32, 3)\n",
      "Label - Label Id: 5 Name: dog\n"
     ]
    },
    {
     "data": {
      "image/png": "[encoded data removed]",
      "text/plain": [
       "<matplotlib.figure.Figure at 0x6f7128>"
      ]
     },
     "metadata": {
      "image/png": {
       "height": 250,
       "width": 253
      }
     },
     "output_type": "display_data"
    }
   ],
   "source": [
    "%matplotlib inline\n",
    "%config InlineBackend.figure_format = 'retina'\n",
    "\n",
    "import helper\n",
    "import numpy as np\n",
    "\n",
    "# Explore the dataset\n",
    "batch_id = 3\n",
    "sample_id = 126\n",
    "helper.display_stats(cifar10_dataset_folder_path, batch_id, sample_id)"
   ]
  },
  {
   "cell_type": "markdown",
   "metadata": {},
   "source": [
    "## Implement Preprocess Functions\n",
    "### Normalize\n",
    "In the cell below, implement the `normalize` function to take in image data, `x`, and return it as a normalized Numpy array. The values should be in the range of 0 to 1, inclusive.  The return object should be the same shape as `x`."
   ]
  },
  {
   "cell_type": "code",
   "execution_count": 3,
   "metadata": {},
   "outputs": [
    {
     "name": "stdout",
     "output_type": "stream",
     "text": [
      "Tests Passed\n"
     ]
    }
   ],
   "source": [
    "def normalize(x):\n",
    "    \"\"\"\n",
    "    Normalize a list of sample image data in the range of 0 to 1\n",
    "    : x: List of image data.  The image shape is (32, 32, 3)\n",
    "    : return: Numpy array of normalize data\n",
    "    \"\"\"\n",
    "    # TODO: Implement Function\n",
    "    min_val = np.min(x)\n",
    "    max_val = np.max(x)\n",
    "    return (x - min_val) / (max_val - min_val) # Linear interpolation\n",
    "\n",
    "\n",
    "\"\"\"\n",
    "DON'T MODIFY ANYTHING IN THIS CELL THAT IS BELOW THIS LINE\n",
    "\"\"\"\n",
    "tests.test_normalize(normalize)"
   ]
  },
  {
   "cell_type": "markdown",
   "metadata": {},
   "source": [
    "### One-hot encode\n",
    "Just like the previous code cell, you'll be implementing a function for preprocessing.  This time, you'll implement the `one_hot_encode` function. The input, `x`, are a list of labels.  Implement the function to return the list of labels as One-Hot encoded Numpy array.  The possible values for labels are 0 to 9. The one-hot encoding function should return the same encoding for each value between each call to `one_hot_encode`.  Make sure to save the map of encodings outside the function.\n",
    "\n",
    "Hint: Don't reinvent the wheel."
   ]
  },
  {
   "cell_type": "code",
   "execution_count": 4,
   "metadata": {},
   "outputs": [
    {
     "name": "stdout",
     "output_type": "stream",
     "text": [
      "Tests Passed\n"
     ]
    }
   ],
   "source": [
    "def one_hot_encode(x):\n",
    "    \"\"\"\n",
    "    One hot encode a list of sample labels. Return a one-hot encoded vector for each label.\n",
    "    : x: List of sample Labels\n",
    "    : return: Numpy array of one-hot encoded labels\n",
    "    \"\"\"\n",
    "    # TODO: Implement Function\n",
    "    return np.eye(10)[x]\n",
    "\n",
    "\n",
    "\"\"\"\n",
    "DON'T MODIFY ANYTHING IN THIS CELL THAT IS BELOW THIS LINE\n",
    "\"\"\"\n",
    "tests.test_one_hot_encode(one_hot_encode)"
   ]
  },
  {
   "cell_type": "markdown",
   "metadata": {},
   "source": [
    "### Randomize Data\n",
    "As you saw from exploring the data above, the order of the samples are randomized.  It doesn't hurt to randomize it again, but you don't need to for this dataset."
   ]
  },
  {
   "cell_type": "markdown",
   "metadata": {},
   "source": [
    "## Preprocess all the data and save it\n",
    "Running the code cell below will preprocess all the CIFAR-10 data and save it to file. The code below also uses 10% of the training data for validation."
   ]
  },
  {
   "cell_type": "code",
   "execution_count": 5,
   "metadata": {
    "collapsed": true
   },
   "outputs": [],
   "source": [
    "\"\"\"\n",
    "DON'T MODIFY ANYTHING IN THIS CELL\n",
    "\"\"\"\n",
    "# Preprocess Training, Validation, and Testing Data\n",
    "helper.preprocess_and_save_data(cifar10_dataset_folder_path, normalize, one_hot_encode)"
   ]
  },
  {
   "cell_type": "markdown",
   "metadata": {},
   "source": [
    "# Check Point\n",
    "This is your first checkpoint.  If you ever decide to come back to this notebook or have to restart the notebook, you can start from here.  The preprocessed data has been saved to disk."
   ]
  },
  {
   "cell_type": "code",
   "execution_count": 6,
   "metadata": {
    "collapsed": true
   },
   "outputs": [],
   "source": [
    "\"\"\"\n",
    "DON'T MODIFY ANYTHING IN THIS CELL\n",
    "\"\"\"\n",
    "import pickle\n",
    "import problem_unittests as tests\n",
    "import helper\n",
    "\n",
    "# Load the Preprocessed Validation data\n",
    "valid_features, valid_labels = pickle.load(open('preprocess_validation.p', mode='rb'))"
   ]
  },
  {
   "cell_type": "markdown",
   "metadata": {},
   "source": [
    "## Build the network\n",
    "For the neural network, you'll build each layer into a function.  Most of the code you've seen has been outside of functions. To test your code more thoroughly, we require that you put each layer in a function.  This allows us to give you better feedback and test for simple mistakes using our unittests before you submit your project.\n",
    "\n",
    ">**Note:** If you're finding it hard to dedicate enough time for this course each week, we've provided a small shortcut to this part of the project. In the next couple of problems, you'll have the option to use classes from the [TensorFlow Layers](https://www.tensorflow.org/api_docs/python/tf/layers) or [TensorFlow Layers (contrib)](https://www.tensorflow.org/api_guides/python/contrib.layers) packages to build each layer, except the layers you build in the \"Convolutional and Max Pooling Layer\" section.  TF Layers is similar to Keras's and TFLearn's abstraction to layers, so it's easy to pickup.\n",
    "\n",
    ">However, if you would like to get the most out of this course, try to solve all the problems _without_ using anything from the TF Layers packages. You **can** still use classes from other packages that happen to have the same name as ones you find in TF Layers! For example, instead of using the TF Layers version of the `conv2d` class, [tf.layers.conv2d](https://www.tensorflow.org/api_docs/python/tf/layers/conv2d), you would want to use the TF Neural Network version of `conv2d`, [tf.nn.conv2d](https://www.tensorflow.org/api_docs/python/tf/nn/conv2d). \n",
    "\n",
    "Let's begin!\n",
    "\n",
    "### Input\n",
    "The neural network needs to read the image data, one-hot encoded labels, and dropout keep probability. Implement the following functions\n",
    "* Implement `neural_net_image_input`\n",
    " * Return a [TF Placeholder](https://www.tensorflow.org/api_docs/python/tf/placeholder)\n",
    " * Set the shape using `image_shape` with batch size set to `None`.\n",
    " * Name the TensorFlow placeholder \"x\" using the TensorFlow `name` parameter in the [TF Placeholder](https://www.tensorflow.org/api_docs/python/tf/placeholder).\n",
    "* Implement `neural_net_label_input`\n",
    " * Return a [TF Placeholder](https://www.tensorflow.org/api_docs/python/tf/placeholder)\n",
    " * Set the shape using `n_classes` with batch size set to `None`.\n",
    " * Name the TensorFlow placeholder \"y\" using the TensorFlow `name` parameter in the [TF Placeholder](https://www.tensorflow.org/api_docs/python/tf/placeholder).\n",
    "* Implement `neural_net_keep_prob_input`\n",
    " * Return a [TF Placeholder](https://www.tensorflow.org/api_docs/python/tf/placeholder) for dropout keep probability.\n",
    " * Name the TensorFlow placeholder \"keep_prob\" using the TensorFlow `name` parameter in the [TF Placeholder](https://www.tensorflow.org/api_docs/python/tf/placeholder).\n",
    "\n",
    "These names will be used at the end of the project to load your saved model.\n",
    "\n",
    "Note: `None` for shapes in TensorFlow allow for a dynamic size."
   ]
  },
  {
   "cell_type": "code",
   "execution_count": 7,
   "metadata": {},
   "outputs": [
    {
     "name": "stdout",
     "output_type": "stream",
     "text": [
      "Image Input Tests Passed.\n",
      "Label Input Tests Passed.\n",
      "Keep Prob Tests Passed.\n"
     ]
    }
   ],
   "source": [
    "import tensorflow as tf\n",
    "\n",
    "def neural_net_image_input(image_shape):\n",
    "    \"\"\"\n",
    "    Return a Tensor for a batch of image input\n",
    "    : image_shape: Shape of the images\n",
    "    : return: Tensor for image input.\n",
    "    \"\"\"\n",
    "    # TODO: Implement Function\n",
    "    return tf.placeholder(tf.float32, name=\"x\", shape=(None, image_shape[0], image_shape[1], image_shape[2]))\n",
    "\n",
    "\n",
    "def neural_net_label_input(n_classes):\n",
    "    \"\"\"\n",
    "    Return a Tensor for a batch of label input\n",
    "    : n_classes: Number of classes\n",
    "    : return: Tensor for label input.\n",
    "    \"\"\"\n",
    "    # TODO: Implement Function\n",
    "    return tf.placeholder(tf.float32, name=\"y\", shape=(None, n_classes))\n",
    "\n",
    "\n",
    "def neural_net_keep_prob_input():\n",
    "    \"\"\"\n",
    "    Return a Tensor for keep probability\n",
    "    : return: Tensor for keep probability.\n",
    "    \"\"\"\n",
    "    # TODO: Implement Function\n",
    "    return tf.placeholder(tf.float32, name = \"keep_prob\")\n",
    "\n",
    "\n",
    "\"\"\"\n",
    "DON'T MODIFY ANYTHING IN THIS CELL THAT IS BELOW THIS LINE\n",
    "\"\"\"\n",
    "tf.reset_default_graph()\n",
    "tests.test_nn_image_inputs(neural_net_image_input)\n",
    "tests.test_nn_label_inputs(neural_net_label_input)\n",
    "tests.test_nn_keep_prob_inputs(neural_net_keep_prob_input)"
   ]
  },
  {
   "cell_type": "markdown",
   "metadata": {},
   "source": [
    "### Convolution and Max Pooling Layer\n",
    "Convolution layers have a lot of success with images. For this code cell, you should implement the function `conv2d_maxpool` to apply convolution then max pooling:\n",
    "* Create the weight and bias using `conv_ksize`, `conv_num_outputs` and the shape of `x_tensor`.\n",
    "* Apply a convolution to `x_tensor` using weight and `conv_strides`.\n",
    " * We recommend you use same padding, but you're welcome to use any padding.\n",
    "* Add bias\n",
    "* Add a nonlinear activation to the convolution.\n",
    "* Apply Max Pooling using `pool_ksize` and `pool_strides`.\n",
    " * We recommend you use same padding, but you're welcome to use any padding.\n",
    "\n",
    "**Note:** You **can't** use [TensorFlow Layers](https://www.tensorflow.org/api_docs/python/tf/layers) or [TensorFlow Layers (contrib)](https://www.tensorflow.org/api_guides/python/contrib.layers) for **this** layer, but you can still use TensorFlow's [Neural Network](https://www.tensorflow.org/api_docs/python/tf/nn) package. You may still use the shortcut option for all the **other** layers."
   ]
  },
  {
   "cell_type": "code",
   "execution_count": 8,
   "metadata": {},
   "outputs": [
    {
     "name": "stdout",
     "output_type": "stream",
     "text": [
      "Tests Passed\n"
     ]
    }
   ],
   "source": [
    "def conv2d_maxpool(x_tensor, conv_num_outputs, conv_ksize, conv_strides, pool_ksize, pool_strides):\n",
    "    \"\"\"\n",
    "    Apply convolution then max pooling to x_tensor\n",
    "    :param x_tensor: TensorFlow Tensor\n",
    "    :param conv_num_outputs: Number of outputs for the convolutional layer\n",
    "    :param conv_ksize: kernal size 2-D Tuple for the convolutional layer\n",
    "    :param conv_strides: Stride 2-D Tuple for convolution\n",
    "    :param pool_ksize: kernal size 2-D Tuple for pool\n",
    "    :param pool_strides: Stride 2-D Tuple for pool\n",
    "    : return: A tensor that represents convolution and max pooling of x_tensor\n",
    "    \"\"\"\n",
    "    # TODO: Implement Function\n",
    "    # Weight and Bias\n",
    "    weights = tf.Variable(tf.random_normal([conv_ksize[0], conv_ksize[1], x_tensor.shape[3].value, conv_num_outputs], \n",
    "                                           mean = 0.0, stddev = 0.1))\n",
    "    biases = tf.Variable(tf.zeros(conv_num_outputs))\n",
    "    \n",
    "    # Convolusion\n",
    "    x_tensor = tf.nn.conv2d(x_tensor, weights, strides = [1, conv_strides[0], conv_strides[1], 1], padding = 'SAME')\n",
    "    x_tensor = tf.nn.bias_add(x_tensor, biases)\n",
    "    x_tensor = tf.nn.relu(x_tensor)\n",
    "    \n",
    "    # Max Ppling\n",
    "    x_tensor = tf.nn.max_pool(\n",
    "        x_tensor,\n",
    "        ksize = [1, pool_ksize[0], pool_ksize[1], 1],\n",
    "        strides = [1, pool_strides[0], pool_strides[1], 1],\n",
    "        padding = 'SAME')\n",
    "    \n",
    "    return  x_tensor\n",
    "\n",
    "\n",
    "\"\"\"\n",
    "DON'T MODIFY ANYTHING IN THIS CELL THAT IS BELOW THIS LINE\n",
    "\"\"\"\n",
    "tests.test_con_pool(conv2d_maxpool)"
   ]
  },
  {
   "cell_type": "markdown",
   "metadata": {},
   "source": [
    "### Flatten Layer\n",
    "Implement the `flatten` function to change the dimension of `x_tensor` from a 4-D tensor to a 2-D tensor.  The output should be the shape (*Batch Size*, *Flattened Image Size*). Shortcut option: you can use classes from the [TensorFlow Layers](https://www.tensorflow.org/api_docs/python/tf/layers) or [TensorFlow Layers (contrib)](https://www.tensorflow.org/api_guides/python/contrib.layers) packages for this layer. For more of a challenge, only use other TensorFlow packages."
   ]
  },
  {
   "cell_type": "code",
   "execution_count": 9,
   "metadata": {},
   "outputs": [
    {
     "name": "stdout",
     "output_type": "stream",
     "text": [
      "Tests Passed\n"
     ]
    }
   ],
   "source": [
    "def flatten(x_tensor):\n",
    "    \"\"\"\n",
    "    Flatten x_tensor to (Batch Size, Flattened Image Size)\n",
    "    : x_tensor: A tensor of size (Batch Size, ...), where ... are the image dimensions.\n",
    "    : return: A tensor of size (Batch Size, Flattened Image Size).\n",
    "    \"\"\"\n",
    "    # TODO: Implement Function\n",
    "    x_tensor_shapes = x_tensor.get_shape().as_list()\n",
    "    \n",
    "    return tf.reshape(x_tensor, [-1, x_tensor_shapes[1] * x_tensor_shapes[2] * x_tensor_shapes[3]])\n",
    "\n",
    "\n",
    "\"\"\"\n",
    "DON'T MODIFY ANYTHING IN THIS CELL THAT IS BELOW THIS LINE\n",
    "\"\"\"\n",
    "tests.test_flatten(flatten)"
   ]
  },
  {
   "cell_type": "markdown",
   "metadata": {},
   "source": [
    "### Fully-Connected Layer\n",
    "Implement the `fully_conn` function to apply a fully connected layer to `x_tensor` with the shape (*Batch Size*, *num_outputs*). Shortcut option: you can use classes from the [TensorFlow Layers](https://www.tensorflow.org/api_docs/python/tf/layers) or [TensorFlow Layers (contrib)](https://www.tensorflow.org/api_guides/python/contrib.layers) packages for this layer. For more of a challenge, only use other TensorFlow packages."
   ]
  },
  {
   "cell_type": "code",
   "execution_count": 10,
   "metadata": {},
   "outputs": [
    {
     "name": "stdout",
     "output_type": "stream",
     "text": [
      "Tests Passed\n"
     ]
    }
   ],
   "source": [
    "def fully_conn(x_tensor, num_outputs):\n",
    "    \"\"\"\n",
    "    Apply a fully connected layer to x_tensor using weight and bias\n",
    "    : x_tensor: A 2-D tensor where the first dimension is batch size.\n",
    "    : num_outputs: The number of output that the new tensor should be.\n",
    "    : return: A 2-D tensor where the second dimension is num_outputs.\n",
    "    \"\"\"\n",
    "    # TODO: Implement Function\n",
    "    # Weight and Bias\n",
    "    x_tensor_shapes = x_tensor.get_shape().as_list()\n",
    "    \n",
    "    weights = tf.Variable(tf.random_normal([x_tensor_shapes[1], num_outputs], mean = 0.0, stddev = 0.1))\n",
    "    biases = tf.Variable(tf.zeros(num_outputs))\n",
    "    \n",
    "    # Fully connected \n",
    "    x_tensor = tf.add(tf.matmul(x_tensor, weights), biases)\n",
    "    x_tensor = tf.nn.relu(x_tensor)\n",
    "    \n",
    "    return x_tensor\n",
    "\n",
    "\n",
    "\"\"\"\n",
    "DON'T MODIFY ANYTHING IN THIS CELL THAT IS BELOW THIS LINE\n",
    "\"\"\"\n",
    "tests.test_fully_conn(fully_conn)"
   ]
  },
  {
   "cell_type": "markdown",
   "metadata": {},
   "source": [
    "### Output Layer\n",
    "Implement the `output` function to apply a fully connected layer to `x_tensor` with the shape (*Batch Size*, *num_outputs*). Shortcut option: you can use classes from the [TensorFlow Layers](https://www.tensorflow.org/api_docs/python/tf/layers) or [TensorFlow Layers (contrib)](https://www.tensorflow.org/api_guides/python/contrib.layers) packages for this layer. For more of a challenge, only use other TensorFlow packages.\n",
    "\n",
    "**Note:** Activation, softmax, or cross entropy should **not** be applied to this."
   ]
  },
  {
   "cell_type": "code",
   "execution_count": 11,
   "metadata": {},
   "outputs": [
    {
     "name": "stdout",
     "output_type": "stream",
     "text": [
      "Tests Passed\n"
     ]
    }
   ],
   "source": [
    "def output(x_tensor, num_outputs):\n",
    "    \"\"\"\n",
    "    Apply a output layer to x_tensor using weight and bias\n",
    "    : x_tensor: A 2-D tensor where the first dimension is batch size.\n",
    "    : num_outputs: The number of output that the new tensor should be.\n",
    "    : return: A 2-D tensor where the second dimension is num_outputs.\n",
    "    \"\"\"\n",
    "    # TODO: Implement Function\n",
    "    # Weight and Biases\n",
    "    weights = tf.Variable(tf.random_normal([x_tensor.shape[1].value, num_outputs], mean = 0.0, stddev = 0.1))\n",
    "    biases = tf.Variable(tf.zeros(num_outputs))\n",
    "    \n",
    "    # Output\n",
    "    x_tensor = tf.add(tf.matmul(x_tensor, weights), biases)\n",
    "    return x_tensor\n",
    "\n",
    "\n",
    "\"\"\"\n",
    "DON'T MODIFY ANYTHING IN THIS CELL THAT IS BELOW THIS LINE\n",
    "\"\"\"\n",
    "tests.test_output(output)"
   ]
  },
  {
   "cell_type": "markdown",
   "metadata": {},
   "source": [
    "### Create Convolutional Model\n",
    "Implement the function `conv_net` to create a convolutional neural network model. The function takes in a batch of images, `x`, and outputs logits.  Use the layers you created above to create this model:\n",
    "\n",
    "* Apply 1, 2, or 3 Convolution and Max Pool layers\n",
    "* Apply a Flatten Layer\n",
    "* Apply 1, 2, or 3 Fully Connected Layers\n",
    "* Apply an Output Layer\n",
    "* Return the output\n",
    "* Apply [TensorFlow's Dropout](https://www.tensorflow.org/api_docs/python/tf/nn/dropout) to one or more layers in the model using `keep_prob`. "
   ]
  },
  {
   "cell_type": "code",
   "execution_count": 12,
   "metadata": {},
   "outputs": [
    {
     "name": "stdout",
     "output_type": "stream",
     "text": [
      "Neural Network Built!\n"
     ]
    }
   ],
   "source": [
    "def conv_net(x, keep_prob):\n",
    "    \"\"\"\n",
    "    Create a convolutional neural network model\n",
    "    : x: Placeholder tensor that holds image data.\n",
    "    : keep_prob: Placeholder tensor that hold dropout keep probability.\n",
    "    : return: Tensor that represents logits\n",
    "    \"\"\"\n",
    "    # TODO: Apply 1, 2, or 3 Convolution and Max Pool layers\n",
    "    #    Play around with different number of outputs, kernel size and stride\n",
    "    # Function Definition from Above:\n",
    "    #    conv2d_maxpool(x_tensor, conv_num_outputs, conv_ksize, conv_strides, pool_ksize, pool_strides)\n",
    "    nn_conv = conv2d_maxpool(x,       32,  (3, 3), (1, 1), (2, 2), (2, 2))\n",
    "    nn_conv = conv2d_maxpool(nn_conv, 32,  (3, 3), (2, 2), (2, 2), (2, 2))\n",
    "    nn_conv = conv2d_maxpool(nn_conv, 64,  (3, 3), (1, 1), (2, 2), (2, 2))\n",
    "\n",
    "    # TODO: Apply a Flatten Layer\n",
    "    # Function Definition from Above:\n",
    "    #   flatten(x_tensor)\n",
    "    nn_flat = flatten(nn_conv)\n",
    "\n",
    "    # TODO: Apply 1, 2, or 3 Fully Connected Layers\n",
    "    #    Play around with different number of outputs\n",
    "    # Function Definition from Above:\n",
    "    #   fully_conn(x_tensor, num_outputs)\n",
    "    nn_fc = fully_conn(nn_flat, 256)\n",
    "    nn_fc = tf.nn.dropout(nn_fc, keep_prob)\n",
    "    \n",
    "    nn_fc = fully_conn(nn_fc, 128)\n",
    "    nn_fc = tf.nn.dropout(nn_fc, keep_prob)\n",
    "    \n",
    "    # TODO: Apply an Output Layer\n",
    "    #    Set this to the number of classes\n",
    "    # Function Definition from Above:\n",
    "    #   output(x_tensor, num_outputs)\n",
    "    nn_out = output(nn_fc, 10)\n",
    "    \n",
    "    # TODO: return output\n",
    "    return nn_out\n",
    "\n",
    "\n",
    "\"\"\"\n",
    "DON'T MODIFY ANYTHING IN THIS CELL THAT IS BELOW THIS LINE\n",
    "\"\"\"\n",
    "\n",
    "##############################\n",
    "## Build the Neural Network ##\n",
    "##############################\n",
    "\n",
    "# Remove previous weights, bias, inputs, etc..\n",
    "tf.reset_default_graph()\n",
    "\n",
    "# Inputs\n",
    "x = neural_net_image_input((32, 32, 3))\n",
    "y = neural_net_label_input(10)\n",
    "keep_prob = neural_net_keep_prob_input()\n",
    "\n",
    "# Model\n",
    "logits = conv_net(x, keep_prob)\n",
    "\n",
    "# Name logits Tensor, so that is can be loaded from disk after training\n",
    "logits = tf.identity(logits, name='logits')\n",
    "\n",
    "# Loss and Optimizer\n",
    "cost = tf.reduce_mean(tf.nn.softmax_cross_entropy_with_logits(logits=logits, labels=y))\n",
    "optimizer = tf.train.AdamOptimizer().minimize(cost)\n",
    "\n",
    "# Accuracy\n",
    "correct_pred = tf.equal(tf.argmax(logits, 1), tf.argmax(y, 1))\n",
    "accuracy = tf.reduce_mean(tf.cast(correct_pred, tf.float32), name='accuracy')\n",
    "\n",
    "tests.test_conv_net(conv_net)"
   ]
  },
  {
   "cell_type": "markdown",
   "metadata": {},
   "source": [
    "## Train the Neural Network\n",
    "### Single Optimization\n",
    "Implement the function `train_neural_network` to do a single optimization.  The optimization should use `optimizer` to optimize in `session` with a `feed_dict` of the following:\n",
    "* `x` for image input\n",
    "* `y` for labels\n",
    "* `keep_prob` for keep probability for dropout\n",
    "\n",
    "This function will be called for each batch, so `tf.global_variables_initializer()` has already been called.\n",
    "\n",
    "Note: Nothing needs to be returned. This function is only optimizing the neural network."
   ]
  },
  {
   "cell_type": "code",
   "execution_count": 13,
   "metadata": {},
   "outputs": [
    {
     "name": "stdout",
     "output_type": "stream",
     "text": [
      "Tests Passed\n"
     ]
    }
   ],
   "source": [
    "def train_neural_network(session, optimizer, keep_probability, feature_batch, label_batch):\n",
    "    \"\"\"\n",
    "    Optimize the session on a batch of images and labels\n",
    "    : session: Current TensorFlow session\n",
    "    : optimizer: TensorFlow optimizer function\n",
    "    : keep_probability: keep probability\n",
    "    : feature_batch: Batch of Numpy image data\n",
    "    : label_batch: Batch of Numpy label data\n",
    "    \"\"\"\n",
    "    # TODO: Implement Function\n",
    "    session.run(optimizer, feed_dict={x: feature_batch, y: label_batch, keep_prob: keep_probability})\n",
    "\n",
    "\n",
    "\"\"\"\n",
    "DON'T MODIFY ANYTHING IN THIS CELL THAT IS BELOW THIS LINE\n",
    "\"\"\"\n",
    "tests.test_train_nn(train_neural_network)"
   ]
  },
  {
   "cell_type": "markdown",
   "metadata": {},
   "source": [
    "### Show Stats\n",
    "Implement the function `print_stats` to print loss and validation accuracy.  Use the global variables `valid_features` and `valid_labels` to calculate validation accuracy.  Use a keep probability of `1.0` to calculate the loss and validation accuracy."
   ]
  },
  {
   "cell_type": "code",
   "execution_count": 14,
   "metadata": {
    "collapsed": true
   },
   "outputs": [],
   "source": [
    "def print_stats(session, feature_batch, label_batch, cost, accuracy):\n",
    "    \"\"\"\n",
    "    Print information about loss and validation accuracy\n",
    "    : session: Current TensorFlow session\n",
    "    : feature_batch: Batch of Numpy image data\n",
    "    : label_batch: Batch of Numpy label data\n",
    "    : cost: TensorFlow cost function\n",
    "    : accuracy: TensorFlow accuracy function\n",
    "    \"\"\"\n",
    "    # Loss\n",
    "    loss = sess.run(cost, feed_dict={x: feature_batch, y: label_batch, keep_prob: 1.})\n",
    "    \n",
    "    # Training accuracy\n",
    "    train_accuracy = sess.run(accuracy, feed_dict={x: feature_batch, y: label_batch, keep_prob: 1.})\n",
    "    \n",
    "    # Validation accuracy\n",
    "    valid_accuracy = sess.run(accuracy, feed_dict={x: valid_features, y: valid_labels, keep_prob: 1.})\n",
    "    \n",
    "    # Print\n",
    "    print('Loss: {:>10.4f}, Train Accuracy: {:.6f}, Validation Accuracy: {:.6f}'.format(loss, train_accuracy, valid_accuracy))"
   ]
  },
  {
   "cell_type": "markdown",
   "metadata": {},
   "source": [
    "### Hyperparameters\n",
    "Tune the following parameters:\n",
    "* Set `epochs` to the number of iterations until the network stops learning or start overfitting\n",
    "* Set `batch_size` to the highest number that your machine has memory for.  Most people set them to common sizes of memory:\n",
    " * 64\n",
    " * 128\n",
    " * 256\n",
    " * ...\n",
    "* Set `keep_probability` to the probability of keeping a node using dropout"
   ]
  },
  {
   "cell_type": "code",
   "execution_count": 15,
   "metadata": {
    "collapsed": true
   },
   "outputs": [],
   "source": [
    "# TODO: Tune Parameters\n",
    "epochs = 50\n",
    "batch_size = 1024\n",
    "keep_probability = 0.5"
   ]
  },
  {
   "cell_type": "markdown",
   "metadata": {},
   "source": [
    "### Train on a Single CIFAR-10 Batch\n",
    "Instead of training the neural network on all the CIFAR-10 batches of data, let's use a single batch. This should save time while you iterate on the model to get a better accuracy.  Once the final validation accuracy is 50% or greater, run the model on all the data in the next section."
   ]
  },
  {
   "cell_type": "code",
   "execution_count": 16,
   "metadata": {},
   "outputs": [
    {
     "name": "stdout",
     "output_type": "stream",
     "text": [
      "Checking the Training on a Single Batch...\n",
      "Epoch  1, CIFAR-10 Batch 1:  Loss:     2.2904, Train Accuracy: 0.147277, Validation Accuracy: 0.156600\n",
      "Epoch  2, CIFAR-10 Batch 1:  Loss:     2.2867, Train Accuracy: 0.137376, Validation Accuracy: 0.145800\n",
      "Epoch  3, CIFAR-10 Batch 1:  Loss:     2.2653, Train Accuracy: 0.222772, Validation Accuracy: 0.211600\n",
      "Epoch  4, CIFAR-10 Batch 1:  Loss:     2.2071, Train Accuracy: 0.246287, Validation Accuracy: 0.237600\n",
      "Epoch  5, CIFAR-10 Batch 1:  Loss:     2.0844, Train Accuracy: 0.259901, Validation Accuracy: 0.254200\n",
      "Epoch  6, CIFAR-10 Batch 1:  Loss:     2.0165, Train Accuracy: 0.271040, Validation Accuracy: 0.281600\n",
      "Epoch  7, CIFAR-10 Batch 1:  Loss:     1.9530, Train Accuracy: 0.289604, Validation Accuracy: 0.307400\n",
      "Epoch  8, CIFAR-10 Batch 1:  Loss:     1.8595, Train Accuracy: 0.347772, Validation Accuracy: 0.344600\n",
      "Epoch  9, CIFAR-10 Batch 1:  Loss:     1.8235, Train Accuracy: 0.371287, Validation Accuracy: 0.338800\n",
      "Epoch 10, CIFAR-10 Batch 1:  Loss:     1.7432, Train Accuracy: 0.396040, Validation Accuracy: 0.380200\n",
      "Epoch 11, CIFAR-10 Batch 1:  Loss:     1.7046, Train Accuracy: 0.407178, Validation Accuracy: 0.382600\n",
      "Epoch 12, CIFAR-10 Batch 1:  Loss:     1.6506, Train Accuracy: 0.410891, Validation Accuracy: 0.398800\n",
      "Epoch 13, CIFAR-10 Batch 1:  Loss:     1.6040, Train Accuracy: 0.420792, Validation Accuracy: 0.413400\n",
      "Epoch 14, CIFAR-10 Batch 1:  Loss:     1.5578, Train Accuracy: 0.436881, Validation Accuracy: 0.424800\n",
      "Epoch 15, CIFAR-10 Batch 1:  Loss:     1.5178, Train Accuracy: 0.467822, Validation Accuracy: 0.432800\n",
      "Epoch 16, CIFAR-10 Batch 1:  Loss:     1.4827, Train Accuracy: 0.465347, Validation Accuracy: 0.442600\n",
      "Epoch 17, CIFAR-10 Batch 1:  Loss:     1.4705, Train Accuracy: 0.474010, Validation Accuracy: 0.442400\n",
      "Epoch 18, CIFAR-10 Batch 1:  Loss:     1.4133, Train Accuracy: 0.501238, Validation Accuracy: 0.457600\n",
      "Epoch 19, CIFAR-10 Batch 1:  Loss:     1.3871, Train Accuracy: 0.497525, Validation Accuracy: 0.469800\n",
      "Epoch 20, CIFAR-10 Batch 1:  Loss:     1.3662, Train Accuracy: 0.516089, Validation Accuracy: 0.464200\n",
      "Epoch 21, CIFAR-10 Batch 1:  Loss:     1.3415, Train Accuracy: 0.530941, Validation Accuracy: 0.475400\n",
      "Epoch 22, CIFAR-10 Batch 1:  Loss:     1.3039, Train Accuracy: 0.538366, Validation Accuracy: 0.482000\n",
      "Epoch 23, CIFAR-10 Batch 1:  Loss:     1.3300, Train Accuracy: 0.528465, Validation Accuracy: 0.472600\n",
      "Epoch 24, CIFAR-10 Batch 1:  Loss:     1.2756, Train Accuracy: 0.560644, Validation Accuracy: 0.492800\n",
      "Epoch 25, CIFAR-10 Batch 1:  Loss:     1.2592, Train Accuracy: 0.568069, Validation Accuracy: 0.497200\n",
      "Epoch 26, CIFAR-10 Batch 1:  Loss:     1.2478, Train Accuracy: 0.558168, Validation Accuracy: 0.497800\n",
      "Epoch 27, CIFAR-10 Batch 1:  Loss:     1.2333, Train Accuracy: 0.568069, Validation Accuracy: 0.505200\n",
      "Epoch 28, CIFAR-10 Batch 1:  Loss:     1.2344, Train Accuracy: 0.576733, Validation Accuracy: 0.503200\n",
      "Epoch 29, CIFAR-10 Batch 1:  Loss:     1.2020, Train Accuracy: 0.568069, Validation Accuracy: 0.510000\n",
      "Epoch 30, CIFAR-10 Batch 1:  Loss:     1.1684, Train Accuracy: 0.585396, Validation Accuracy: 0.520400\n",
      "Epoch 31, CIFAR-10 Batch 1:  Loss:     1.2061, Train Accuracy: 0.594059, Validation Accuracy: 0.499400\n",
      "Epoch 32, CIFAR-10 Batch 1:  Loss:     1.1527, Train Accuracy: 0.594059, Validation Accuracy: 0.512000\n",
      "Epoch 33, CIFAR-10 Batch 1:  Loss:     1.1102, Train Accuracy: 0.608911, Validation Accuracy: 0.516400\n",
      "Epoch 34, CIFAR-10 Batch 1:  Loss:     1.1051, Train Accuracy: 0.601485, Validation Accuracy: 0.520000\n",
      "Epoch 35, CIFAR-10 Batch 1:  Loss:     1.0763, Train Accuracy: 0.617574, Validation Accuracy: 0.524800\n",
      "Epoch 36, CIFAR-10 Batch 1:  Loss:     1.0745, Train Accuracy: 0.622525, Validation Accuracy: 0.524200\n",
      "Epoch 37, CIFAR-10 Batch 1:  Loss:     1.0720, Train Accuracy: 0.627475, Validation Accuracy: 0.517400\n",
      "Epoch 38, CIFAR-10 Batch 1:  Loss:     1.0266, Train Accuracy: 0.636139, Validation Accuracy: 0.532200\n",
      "Epoch 39, CIFAR-10 Batch 1:  Loss:     1.0251, Train Accuracy: 0.629951, Validation Accuracy: 0.529000\n",
      "Epoch 40, CIFAR-10 Batch 1:  Loss:     1.0287, Train Accuracy: 0.627475, Validation Accuracy: 0.526600\n",
      "Epoch 41, CIFAR-10 Batch 1:  Loss:     1.0243, Train Accuracy: 0.643564, Validation Accuracy: 0.520000\n",
      "Epoch 42, CIFAR-10 Batch 1:  Loss:     0.9913, Train Accuracy: 0.637376, Validation Accuracy: 0.533200\n",
      "Epoch 43, CIFAR-10 Batch 1:  Loss:     0.9736, Train Accuracy: 0.660891, Validation Accuracy: 0.531600\n",
      "Epoch 44, CIFAR-10 Batch 1:  Loss:     0.9545, Train Accuracy: 0.653465, Validation Accuracy: 0.538800\n",
      "Epoch 45, CIFAR-10 Batch 1:  Loss:     0.9223, Train Accuracy: 0.674505, Validation Accuracy: 0.541800\n",
      "Epoch 46, CIFAR-10 Batch 1:  Loss:     0.9290, Train Accuracy: 0.658416, Validation Accuracy: 0.540400\n",
      "Epoch 47, CIFAR-10 Batch 1:  Loss:     0.9045, Train Accuracy: 0.681931, Validation Accuracy: 0.545600\n",
      "Epoch 48, CIFAR-10 Batch 1:  Loss:     0.8848, Train Accuracy: 0.684406, Validation Accuracy: 0.545200\n",
      "Epoch 49, CIFAR-10 Batch 1:  Loss:     0.8894, Train Accuracy: 0.680693, Validation Accuracy: 0.537400\n",
      "Epoch 50, CIFAR-10 Batch 1:  Loss:     0.9018, Train Accuracy: 0.678218, Validation Accuracy: 0.538000\n"
     ]
    }
   ],
   "source": [
    "\"\"\"\n",
    "DON'T MODIFY ANYTHING IN THIS CELL\n",
    "\"\"\"\n",
    "print('Checking the Training on a Single Batch...')\n",
    "with tf.Session() as sess:\n",
    "    # Initializing the variables\n",
    "    sess.run(tf.global_variables_initializer())\n",
    "    \n",
    "    # Training cycle\n",
    "    for epoch in range(epochs):\n",
    "        batch_i = 1\n",
    "        for batch_features, batch_labels in helper.load_preprocess_training_batch(batch_i, batch_size):\n",
    "            train_neural_network(sess, optimizer, keep_probability, batch_features, batch_labels)\n",
    "        print('Epoch {:>2}, CIFAR-10 Batch {}:  '.format(epoch + 1, batch_i), end='')\n",
    "        print_stats(sess, batch_features, batch_labels, cost, accuracy)"
   ]
  },
  {
   "cell_type": "markdown",
   "metadata": {},
   "source": [
    "### Fully Train the Model\n",
    "Now that you got a good accuracy with a single CIFAR-10 batch, try it with all five batches."
   ]
  },
  {
   "cell_type": "code",
   "execution_count": 17,
   "metadata": {},
   "outputs": [
    {
     "name": "stdout",
     "output_type": "stream",
     "text": [
      "Training...\n",
      "Epoch  1, CIFAR-10 Batch 1:  Loss:     2.2873, Train Accuracy: 0.144802, Validation Accuracy: 0.139200\n",
      "Epoch  1, CIFAR-10 Batch 2:  Loss:     2.2778, Train Accuracy: 0.175743, Validation Accuracy: 0.181000\n",
      "Epoch  1, CIFAR-10 Batch 3:  Loss:     2.2271, Train Accuracy: 0.209158, Validation Accuracy: 0.220200\n",
      "Epoch  1, CIFAR-10 Batch 4:  Loss:     2.0753, Train Accuracy: 0.237624, Validation Accuracy: 0.232400\n",
      "Epoch  1, CIFAR-10 Batch 5:  Loss:     1.9887, Train Accuracy: 0.277228, Validation Accuracy: 0.273200\n",
      "Epoch  2, CIFAR-10 Batch 1:  Loss:     1.9792, Train Accuracy: 0.275990, Validation Accuracy: 0.273400\n",
      "Epoch  2, CIFAR-10 Batch 2:  Loss:     1.8575, Train Accuracy: 0.329208, Validation Accuracy: 0.334200\n",
      "Epoch  2, CIFAR-10 Batch 3:  Loss:     1.7648, Train Accuracy: 0.355198, Validation Accuracy: 0.338800\n",
      "Epoch  2, CIFAR-10 Batch 4:  Loss:     1.7169, Train Accuracy: 0.386139, Validation Accuracy: 0.360000\n",
      "Epoch  2, CIFAR-10 Batch 5:  Loss:     1.6993, Train Accuracy: 0.375000, Validation Accuracy: 0.372400\n",
      "Epoch  3, CIFAR-10 Batch 1:  Loss:     1.7001, Train Accuracy: 0.383663, Validation Accuracy: 0.371800\n",
      "Epoch  3, CIFAR-10 Batch 2:  Loss:     1.6452, Train Accuracy: 0.412129, Validation Accuracy: 0.402400\n",
      "Epoch  3, CIFAR-10 Batch 3:  Loss:     1.5620, Train Accuracy: 0.454208, Validation Accuracy: 0.407600\n",
      "Epoch  3, CIFAR-10 Batch 4:  Loss:     1.5491, Train Accuracy: 0.426980, Validation Accuracy: 0.418600\n",
      "Epoch  3, CIFAR-10 Batch 5:  Loss:     1.5570, Train Accuracy: 0.418317, Validation Accuracy: 0.422400\n",
      "Epoch  4, CIFAR-10 Batch 1:  Loss:     1.5394, Train Accuracy: 0.438119, Validation Accuracy: 0.432000\n",
      "Epoch  4, CIFAR-10 Batch 2:  Loss:     1.5435, Train Accuracy: 0.444307, Validation Accuracy: 0.440400\n",
      "Epoch  4, CIFAR-10 Batch 3:  Loss:     1.4581, Train Accuracy: 0.478960, Validation Accuracy: 0.438000\n",
      "Epoch  4, CIFAR-10 Batch 4:  Loss:     1.4706, Train Accuracy: 0.452970, Validation Accuracy: 0.441000\n",
      "Epoch  4, CIFAR-10 Batch 5:  Loss:     1.4447, Train Accuracy: 0.454208, Validation Accuracy: 0.465600\n",
      "Epoch  5, CIFAR-10 Batch 1:  Loss:     1.4289, Train Accuracy: 0.500000, Validation Accuracy: 0.470200\n",
      "Epoch  5, CIFAR-10 Batch 2:  Loss:     1.4395, Train Accuracy: 0.486386, Validation Accuracy: 0.469600\n",
      "Epoch  5, CIFAR-10 Batch 3:  Loss:     1.3707, Train Accuracy: 0.500000, Validation Accuracy: 0.473000\n",
      "Epoch  5, CIFAR-10 Batch 4:  Loss:     1.3728, Train Accuracy: 0.511139, Validation Accuracy: 0.485200\n",
      "Epoch  5, CIFAR-10 Batch 5:  Loss:     1.3761, Train Accuracy: 0.493812, Validation Accuracy: 0.491200\n",
      "Epoch  6, CIFAR-10 Batch 1:  Loss:     1.3645, Train Accuracy: 0.523515, Validation Accuracy: 0.492400\n",
      "Epoch  6, CIFAR-10 Batch 2:  Loss:     1.3936, Train Accuracy: 0.497525, Validation Accuracy: 0.481600\n",
      "Epoch  6, CIFAR-10 Batch 3:  Loss:     1.3191, Train Accuracy: 0.537129, Validation Accuracy: 0.496400\n",
      "Epoch  6, CIFAR-10 Batch 4:  Loss:     1.3170, Train Accuracy: 0.516089, Validation Accuracy: 0.499400\n",
      "Epoch  6, CIFAR-10 Batch 5:  Loss:     1.3029, Train Accuracy: 0.514852, Validation Accuracy: 0.505000\n",
      "Epoch  7, CIFAR-10 Batch 1:  Loss:     1.2950, Train Accuracy: 0.543317, Validation Accuracy: 0.511200\n",
      "Epoch  7, CIFAR-10 Batch 2:  Loss:     1.3297, Train Accuracy: 0.528465, Validation Accuracy: 0.496200\n",
      "Epoch  7, CIFAR-10 Batch 3:  Loss:     1.2443, Train Accuracy: 0.564356, Validation Accuracy: 0.516200\n",
      "Epoch  7, CIFAR-10 Batch 4:  Loss:     1.2698, Train Accuracy: 0.538366, Validation Accuracy: 0.516800\n",
      "Epoch  7, CIFAR-10 Batch 5:  Loss:     1.2548, Train Accuracy: 0.550743, Validation Accuracy: 0.520600\n",
      "Epoch  8, CIFAR-10 Batch 1:  Loss:     1.2411, Train Accuracy: 0.555693, Validation Accuracy: 0.525000\n",
      "Epoch  8, CIFAR-10 Batch 2:  Loss:     1.2885, Train Accuracy: 0.524752, Validation Accuracy: 0.516800\n",
      "Epoch  8, CIFAR-10 Batch 3:  Loss:     1.2779, Train Accuracy: 0.548267, Validation Accuracy: 0.504800\n",
      "Epoch  8, CIFAR-10 Batch 4:  Loss:     1.2202, Train Accuracy: 0.556931, Validation Accuracy: 0.527800\n",
      "Epoch  8, CIFAR-10 Batch 5:  Loss:     1.2181, Train Accuracy: 0.558168, Validation Accuracy: 0.531000\n",
      "Epoch  9, CIFAR-10 Batch 1:  Loss:     1.2070, Train Accuracy: 0.555693, Validation Accuracy: 0.531400\n",
      "Epoch  9, CIFAR-10 Batch 2:  Loss:     1.2500, Train Accuracy: 0.549505, Validation Accuracy: 0.539400\n",
      "Epoch  9, CIFAR-10 Batch 3:  Loss:     1.2010, Train Accuracy: 0.580446, Validation Accuracy: 0.526000\n",
      "Epoch  9, CIFAR-10 Batch 4:  Loss:     1.1835, Train Accuracy: 0.566832, Validation Accuracy: 0.543400\n",
      "Epoch  9, CIFAR-10 Batch 5:  Loss:     1.1934, Train Accuracy: 0.575495, Validation Accuracy: 0.535400\n",
      "Epoch 10, CIFAR-10 Batch 1:  Loss:     1.1736, Train Accuracy: 0.566832, Validation Accuracy: 0.536000\n",
      "Epoch 10, CIFAR-10 Batch 2:  Loss:     1.2162, Train Accuracy: 0.574257, Validation Accuracy: 0.548800\n",
      "Epoch 10, CIFAR-10 Batch 3:  Loss:     1.1468, Train Accuracy: 0.586634, Validation Accuracy: 0.537200\n",
      "Epoch 10, CIFAR-10 Batch 4:  Loss:     1.1512, Train Accuracy: 0.586634, Validation Accuracy: 0.541400\n",
      "Epoch 10, CIFAR-10 Batch 5:  Loss:     1.1580, Train Accuracy: 0.587871, Validation Accuracy: 0.545200\n",
      "Epoch 11, CIFAR-10 Batch 1:  Loss:     1.1360, Train Accuracy: 0.587871, Validation Accuracy: 0.550000\n",
      "Epoch 11, CIFAR-10 Batch 2:  Loss:     1.1773, Train Accuracy: 0.574257, Validation Accuracy: 0.549200\n",
      "Epoch 11, CIFAR-10 Batch 3:  Loss:     1.1324, Train Accuracy: 0.585396, Validation Accuracy: 0.545600\n",
      "Epoch 11, CIFAR-10 Batch 4:  Loss:     1.1202, Train Accuracy: 0.599010, Validation Accuracy: 0.553800\n",
      "Epoch 11, CIFAR-10 Batch 5:  Loss:     1.1213, Train Accuracy: 0.584158, Validation Accuracy: 0.559800\n",
      "Epoch 12, CIFAR-10 Batch 1:  Loss:     1.1075, Train Accuracy: 0.607673, Validation Accuracy: 0.554200\n",
      "Epoch 12, CIFAR-10 Batch 2:  Loss:     1.1399, Train Accuracy: 0.594059, Validation Accuracy: 0.563800\n",
      "Epoch 12, CIFAR-10 Batch 3:  Loss:     1.1140, Train Accuracy: 0.591584, Validation Accuracy: 0.547600\n",
      "Epoch 12, CIFAR-10 Batch 4:  Loss:     1.0944, Train Accuracy: 0.606436, Validation Accuracy: 0.562400\n",
      "Epoch 12, CIFAR-10 Batch 5:  Loss:     1.0896, Train Accuracy: 0.603960, Validation Accuracy: 0.570000\n",
      "Epoch 13, CIFAR-10 Batch 1:  Loss:     1.0847, Train Accuracy: 0.617574, Validation Accuracy: 0.567200\n",
      "Epoch 13, CIFAR-10 Batch 2:  Loss:     1.1107, Train Accuracy: 0.595297, Validation Accuracy: 0.574800\n",
      "Epoch 13, CIFAR-10 Batch 3:  Loss:     1.0871, Train Accuracy: 0.595297, Validation Accuracy: 0.559000\n",
      "Epoch 13, CIFAR-10 Batch 4:  Loss:     1.0625, Train Accuracy: 0.617574, Validation Accuracy: 0.569600\n",
      "Epoch 13, CIFAR-10 Batch 5:  Loss:     1.0599, Train Accuracy: 0.623762, Validation Accuracy: 0.575000\n",
      "Epoch 14, CIFAR-10 Batch 1:  Loss:     1.0505, Train Accuracy: 0.626238, Validation Accuracy: 0.571800\n",
      "Epoch 14, CIFAR-10 Batch 2:  Loss:     1.0847, Train Accuracy: 0.611386, Validation Accuracy: 0.575400\n",
      "Epoch 14, CIFAR-10 Batch 3:  Loss:     1.0611, Train Accuracy: 0.613861, Validation Accuracy: 0.564600\n",
      "Epoch 14, CIFAR-10 Batch 4:  Loss:     1.0296, Train Accuracy: 0.633663, Validation Accuracy: 0.577400\n",
      "Epoch 14, CIFAR-10 Batch 5:  Loss:     1.0426, Train Accuracy: 0.632426, Validation Accuracy: 0.580200\n",
      "Epoch 15, CIFAR-10 Batch 1:  Loss:     1.0323, Train Accuracy: 0.647277, Validation Accuracy: 0.584000\n",
      "Epoch 15, CIFAR-10 Batch 2:  Loss:     1.0579, Train Accuracy: 0.621287, Validation Accuracy: 0.577400\n",
      "Epoch 15, CIFAR-10 Batch 3:  Loss:     1.0240, Train Accuracy: 0.616337, Validation Accuracy: 0.579600\n",
      "Epoch 15, CIFAR-10 Batch 4:  Loss:     1.0166, Train Accuracy: 0.631188, Validation Accuracy: 0.581000\n",
      "Epoch 15, CIFAR-10 Batch 5:  Loss:     1.0164, Train Accuracy: 0.642327, Validation Accuracy: 0.588000\n",
      "Epoch 16, CIFAR-10 Batch 1:  Loss:     1.0282, Train Accuracy: 0.633663, Validation Accuracy: 0.582800\n",
      "Epoch 16, CIFAR-10 Batch 2:  Loss:     1.0503, Train Accuracy: 0.623762, Validation Accuracy: 0.584400\n",
      "Epoch 16, CIFAR-10 Batch 3:  Loss:     1.0044, Train Accuracy: 0.623762, Validation Accuracy: 0.585800\n",
      "Epoch 16, CIFAR-10 Batch 4:  Loss:     0.9807, Train Accuracy: 0.643564, Validation Accuracy: 0.587800\n"
     ]
    },
    {
     "name": "stdout",
     "output_type": "stream",
     "text": [
      "Epoch 16, CIFAR-10 Batch 5:  Loss:     0.9928, Train Accuracy: 0.648515, Validation Accuracy: 0.591000\n",
      "Epoch 17, CIFAR-10 Batch 1:  Loss:     0.9906, Train Accuracy: 0.654703, Validation Accuracy: 0.587200\n",
      "Epoch 17, CIFAR-10 Batch 2:  Loss:     1.0204, Train Accuracy: 0.636139, Validation Accuracy: 0.589000\n",
      "Epoch 17, CIFAR-10 Batch 3:  Loss:     0.9843, Train Accuracy: 0.625000, Validation Accuracy: 0.587000\n",
      "Epoch 17, CIFAR-10 Batch 4:  Loss:     0.9470, Train Accuracy: 0.668317, Validation Accuracy: 0.599200\n",
      "Epoch 17, CIFAR-10 Batch 5:  Loss:     0.9589, Train Accuracy: 0.664604, Validation Accuracy: 0.603000\n",
      "Epoch 18, CIFAR-10 Batch 1:  Loss:     0.9706, Train Accuracy: 0.667079, Validation Accuracy: 0.592600\n",
      "Epoch 18, CIFAR-10 Batch 2:  Loss:     0.9946, Train Accuracy: 0.644802, Validation Accuracy: 0.595600\n",
      "Epoch 18, CIFAR-10 Batch 3:  Loss:     0.9719, Train Accuracy: 0.634901, Validation Accuracy: 0.591800\n",
      "Epoch 18, CIFAR-10 Batch 4:  Loss:     0.9326, Train Accuracy: 0.659653, Validation Accuracy: 0.591400\n",
      "Epoch 18, CIFAR-10 Batch 5:  Loss:     0.9489, Train Accuracy: 0.673267, Validation Accuracy: 0.602000\n",
      "Epoch 19, CIFAR-10 Batch 1:  Loss:     0.9606, Train Accuracy: 0.672030, Validation Accuracy: 0.596000\n",
      "Epoch 19, CIFAR-10 Batch 2:  Loss:     0.9741, Train Accuracy: 0.650990, Validation Accuracy: 0.598800\n",
      "Epoch 19, CIFAR-10 Batch 3:  Loss:     0.9543, Train Accuracy: 0.642327, Validation Accuracy: 0.598200\n",
      "Epoch 19, CIFAR-10 Batch 4:  Loss:     0.9286, Train Accuracy: 0.664604, Validation Accuracy: 0.597000\n",
      "Epoch 19, CIFAR-10 Batch 5:  Loss:     0.9381, Train Accuracy: 0.669554, Validation Accuracy: 0.603600\n",
      "Epoch 20, CIFAR-10 Batch 1:  Loss:     0.9580, Train Accuracy: 0.657178, Validation Accuracy: 0.599000\n",
      "Epoch 20, CIFAR-10 Batch 2:  Loss:     0.9454, Train Accuracy: 0.673267, Validation Accuracy: 0.605400\n",
      "Epoch 20, CIFAR-10 Batch 3:  Loss:     0.9443, Train Accuracy: 0.646040, Validation Accuracy: 0.599000\n",
      "Epoch 20, CIFAR-10 Batch 4:  Loss:     0.9121, Train Accuracy: 0.669554, Validation Accuracy: 0.603400\n",
      "Epoch 20, CIFAR-10 Batch 5:  Loss:     0.9110, Train Accuracy: 0.688119, Validation Accuracy: 0.611600\n",
      "Epoch 21, CIFAR-10 Batch 1:  Loss:     0.9387, Train Accuracy: 0.670792, Validation Accuracy: 0.597000\n",
      "Epoch 21, CIFAR-10 Batch 2:  Loss:     0.9296, Train Accuracy: 0.680693, Validation Accuracy: 0.605600\n",
      "Epoch 21, CIFAR-10 Batch 3:  Loss:     0.9458, Train Accuracy: 0.657178, Validation Accuracy: 0.599200\n",
      "Epoch 21, CIFAR-10 Batch 4:  Loss:     0.9097, Train Accuracy: 0.673267, Validation Accuracy: 0.602600\n",
      "Epoch 21, CIFAR-10 Batch 5:  Loss:     0.9008, Train Accuracy: 0.686881, Validation Accuracy: 0.608000\n",
      "Epoch 22, CIFAR-10 Batch 1:  Loss:     0.9050, Train Accuracy: 0.685644, Validation Accuracy: 0.614200\n",
      "Epoch 22, CIFAR-10 Batch 2:  Loss:     0.9027, Train Accuracy: 0.685644, Validation Accuracy: 0.623200\n",
      "Epoch 22, CIFAR-10 Batch 3:  Loss:     0.8923, Train Accuracy: 0.659653, Validation Accuracy: 0.610600\n",
      "Epoch 22, CIFAR-10 Batch 4:  Loss:     0.8652, Train Accuracy: 0.680693, Validation Accuracy: 0.614000\n",
      "Epoch 22, CIFAR-10 Batch 5:  Loss:     0.8677, Train Accuracy: 0.705446, Validation Accuracy: 0.618000\n",
      "Epoch 23, CIFAR-10 Batch 1:  Loss:     0.8946, Train Accuracy: 0.678218, Validation Accuracy: 0.613200\n",
      "Epoch 23, CIFAR-10 Batch 2:  Loss:     0.8829, Train Accuracy: 0.685644, Validation Accuracy: 0.623200\n",
      "Epoch 23, CIFAR-10 Batch 3:  Loss:     0.9090, Train Accuracy: 0.660891, Validation Accuracy: 0.608600\n",
      "Epoch 23, CIFAR-10 Batch 4:  Loss:     0.8696, Train Accuracy: 0.675743, Validation Accuracy: 0.614000\n",
      "Epoch 23, CIFAR-10 Batch 5:  Loss:     0.8560, Train Accuracy: 0.709158, Validation Accuracy: 0.623000\n",
      "Epoch 24, CIFAR-10 Batch 1:  Loss:     0.8805, Train Accuracy: 0.691832, Validation Accuracy: 0.617000\n",
      "Epoch 24, CIFAR-10 Batch 2:  Loss:     0.8666, Train Accuracy: 0.704208, Validation Accuracy: 0.634800\n",
      "Epoch 24, CIFAR-10 Batch 3:  Loss:     0.8833, Train Accuracy: 0.670792, Validation Accuracy: 0.614200\n",
      "Epoch 24, CIFAR-10 Batch 4:  Loss:     0.8642, Train Accuracy: 0.685644, Validation Accuracy: 0.611200\n",
      "Epoch 24, CIFAR-10 Batch 5:  Loss:     0.8449, Train Accuracy: 0.709158, Validation Accuracy: 0.628400\n",
      "Epoch 25, CIFAR-10 Batch 1:  Loss:     0.8682, Train Accuracy: 0.691832, Validation Accuracy: 0.616400\n",
      "Epoch 25, CIFAR-10 Batch 2:  Loss:     0.8566, Train Accuracy: 0.716584, Validation Accuracy: 0.624200\n",
      "Epoch 25, CIFAR-10 Batch 3:  Loss:     0.8700, Train Accuracy: 0.685644, Validation Accuracy: 0.615600\n",
      "Epoch 25, CIFAR-10 Batch 4:  Loss:     0.8473, Train Accuracy: 0.690594, Validation Accuracy: 0.620800\n",
      "Epoch 25, CIFAR-10 Batch 5:  Loss:     0.8322, Train Accuracy: 0.714109, Validation Accuracy: 0.631200\n",
      "Epoch 26, CIFAR-10 Batch 1:  Loss:     0.8610, Train Accuracy: 0.689356, Validation Accuracy: 0.620600\n",
      "Epoch 26, CIFAR-10 Batch 2:  Loss:     0.8373, Train Accuracy: 0.711634, Validation Accuracy: 0.630200\n",
      "Epoch 26, CIFAR-10 Batch 3:  Loss:     0.8753, Train Accuracy: 0.684406, Validation Accuracy: 0.617600\n",
      "Epoch 26, CIFAR-10 Batch 4:  Loss:     0.8265, Train Accuracy: 0.695545, Validation Accuracy: 0.624600\n",
      "Epoch 26, CIFAR-10 Batch 5:  Loss:     0.8128, Train Accuracy: 0.722772, Validation Accuracy: 0.638400\n",
      "Epoch 27, CIFAR-10 Batch 1:  Loss:     0.8360, Train Accuracy: 0.699257, Validation Accuracy: 0.624000\n",
      "Epoch 27, CIFAR-10 Batch 2:  Loss:     0.8348, Train Accuracy: 0.716584, Validation Accuracy: 0.624800\n",
      "Epoch 27, CIFAR-10 Batch 3:  Loss:     0.8486, Train Accuracy: 0.690594, Validation Accuracy: 0.616600\n",
      "Epoch 27, CIFAR-10 Batch 4:  Loss:     0.8207, Train Accuracy: 0.702970, Validation Accuracy: 0.621200\n",
      "Epoch 27, CIFAR-10 Batch 5:  Loss:     0.7957, Train Accuracy: 0.731436, Validation Accuracy: 0.635400\n",
      "Epoch 28, CIFAR-10 Batch 1:  Loss:     0.8133, Train Accuracy: 0.710396, Validation Accuracy: 0.629800\n",
      "Epoch 28, CIFAR-10 Batch 2:  Loss:     0.8085, Train Accuracy: 0.725248, Validation Accuracy: 0.636000\n",
      "Epoch 28, CIFAR-10 Batch 3:  Loss:     0.8692, Train Accuracy: 0.685644, Validation Accuracy: 0.616200\n",
      "Epoch 28, CIFAR-10 Batch 4:  Loss:     0.7912, Train Accuracy: 0.720297, Validation Accuracy: 0.631800\n",
      "Epoch 28, CIFAR-10 Batch 5:  Loss:     0.8020, Train Accuracy: 0.737624, Validation Accuracy: 0.633200\n",
      "Epoch 29, CIFAR-10 Batch 1:  Loss:     0.8257, Train Accuracy: 0.700495, Validation Accuracy: 0.624600\n",
      "Epoch 29, CIFAR-10 Batch 2:  Loss:     0.8077, Train Accuracy: 0.720297, Validation Accuracy: 0.636000\n",
      "Epoch 29, CIFAR-10 Batch 3:  Loss:     0.8363, Train Accuracy: 0.686881, Validation Accuracy: 0.628000\n",
      "Epoch 29, CIFAR-10 Batch 4:  Loss:     0.8063, Train Accuracy: 0.706683, Validation Accuracy: 0.635200\n",
      "Epoch 29, CIFAR-10 Batch 5:  Loss:     0.7965, Train Accuracy: 0.735148, Validation Accuracy: 0.633200\n",
      "Epoch 30, CIFAR-10 Batch 1:  Loss:     0.8102, Train Accuracy: 0.715347, Validation Accuracy: 0.633000\n",
      "Epoch 30, CIFAR-10 Batch 2:  Loss:     0.8099, Train Accuracy: 0.731436, Validation Accuracy: 0.638800\n",
      "Epoch 30, CIFAR-10 Batch 3:  Loss:     0.8239, Train Accuracy: 0.706683, Validation Accuracy: 0.633800\n",
      "Epoch 30, CIFAR-10 Batch 4:  Loss:     0.8296, Train Accuracy: 0.685644, Validation Accuracy: 0.615800\n",
      "Epoch 30, CIFAR-10 Batch 5:  Loss:     0.7722, Train Accuracy: 0.731436, Validation Accuracy: 0.640800\n",
      "Epoch 31, CIFAR-10 Batch 1:  Loss:     0.7944, Train Accuracy: 0.716584, Validation Accuracy: 0.639200\n",
      "Epoch 31, CIFAR-10 Batch 2:  Loss:     0.7825, Train Accuracy: 0.735148, Validation Accuracy: 0.642800\n",
      "Epoch 31, CIFAR-10 Batch 3:  Loss:     0.8022, Train Accuracy: 0.709158, Validation Accuracy: 0.634200\n",
      "Epoch 31, CIFAR-10 Batch 4:  Loss:     0.7738, Train Accuracy: 0.720297, Validation Accuracy: 0.637200\n",
      "Epoch 31, CIFAR-10 Batch 5:  Loss:     0.7662, Train Accuracy: 0.733911, Validation Accuracy: 0.643800\n",
      "Epoch 32, CIFAR-10 Batch 1:  Loss:     0.7734, Train Accuracy: 0.740099, Validation Accuracy: 0.640600\n",
      "Epoch 32, CIFAR-10 Batch 2:  Loss:     0.7818, Train Accuracy: 0.728960, Validation Accuracy: 0.643200\n",
      "Epoch 32, CIFAR-10 Batch 3:  Loss:     0.7839, Train Accuracy: 0.720297, Validation Accuracy: 0.634400\n"
     ]
    },
    {
     "name": "stdout",
     "output_type": "stream",
     "text": [
      "Epoch 32, CIFAR-10 Batch 4:  Loss:     0.7909, Train Accuracy: 0.719059, Validation Accuracy: 0.625600\n",
      "Epoch 32, CIFAR-10 Batch 5:  Loss:     0.7860, Train Accuracy: 0.730198, Validation Accuracy: 0.633800\n",
      "Epoch 33, CIFAR-10 Batch 1:  Loss:     0.7875, Train Accuracy: 0.722772, Validation Accuracy: 0.641400\n",
      "Epoch 33, CIFAR-10 Batch 2:  Loss:     0.7710, Train Accuracy: 0.730198, Validation Accuracy: 0.645600\n",
      "Epoch 33, CIFAR-10 Batch 3:  Loss:     0.7689, Train Accuracy: 0.725248, Validation Accuracy: 0.642200\n",
      "Epoch 33, CIFAR-10 Batch 4:  Loss:     0.7376, Train Accuracy: 0.721535, Validation Accuracy: 0.645400\n",
      "Epoch 33, CIFAR-10 Batch 5:  Loss:     0.7290, Train Accuracy: 0.750000, Validation Accuracy: 0.646400\n",
      "Epoch 34, CIFAR-10 Batch 1:  Loss:     0.7451, Train Accuracy: 0.736386, Validation Accuracy: 0.644400\n",
      "Epoch 34, CIFAR-10 Batch 2:  Loss:     0.7461, Train Accuracy: 0.742574, Validation Accuracy: 0.645200\n",
      "Epoch 34, CIFAR-10 Batch 3:  Loss:     0.7850, Train Accuracy: 0.710396, Validation Accuracy: 0.628600\n",
      "Epoch 34, CIFAR-10 Batch 4:  Loss:     0.7306, Train Accuracy: 0.726485, Validation Accuracy: 0.645800\n",
      "Epoch 34, CIFAR-10 Batch 5:  Loss:     0.7277, Train Accuracy: 0.754951, Validation Accuracy: 0.649600\n",
      "Epoch 35, CIFAR-10 Batch 1:  Loss:     0.7661, Train Accuracy: 0.728960, Validation Accuracy: 0.641600\n",
      "Epoch 35, CIFAR-10 Batch 2:  Loss:     0.7584, Train Accuracy: 0.745049, Validation Accuracy: 0.633600\n",
      "Epoch 35, CIFAR-10 Batch 3:  Loss:     0.7678, Train Accuracy: 0.712871, Validation Accuracy: 0.641200\n",
      "Epoch 35, CIFAR-10 Batch 4:  Loss:     0.7879, Train Accuracy: 0.730198, Validation Accuracy: 0.628800\n",
      "Epoch 35, CIFAR-10 Batch 5:  Loss:     0.7231, Train Accuracy: 0.750000, Validation Accuracy: 0.652600\n",
      "Epoch 36, CIFAR-10 Batch 1:  Loss:     0.7490, Train Accuracy: 0.731436, Validation Accuracy: 0.638200\n",
      "Epoch 36, CIFAR-10 Batch 2:  Loss:     0.7322, Train Accuracy: 0.750000, Validation Accuracy: 0.639000\n",
      "Epoch 36, CIFAR-10 Batch 3:  Loss:     0.7273, Train Accuracy: 0.736386, Validation Accuracy: 0.651200\n",
      "Epoch 36, CIFAR-10 Batch 4:  Loss:     0.7395, Train Accuracy: 0.728960, Validation Accuracy: 0.643200\n",
      "Epoch 36, CIFAR-10 Batch 5:  Loss:     0.6940, Train Accuracy: 0.766089, Validation Accuracy: 0.648600\n",
      "Epoch 37, CIFAR-10 Batch 1:  Loss:     0.7288, Train Accuracy: 0.736386, Validation Accuracy: 0.650200\n",
      "Epoch 37, CIFAR-10 Batch 2:  Loss:     0.7199, Train Accuracy: 0.767327, Validation Accuracy: 0.643800\n",
      "Epoch 37, CIFAR-10 Batch 3:  Loss:     0.7199, Train Accuracy: 0.730198, Validation Accuracy: 0.650000\n",
      "Epoch 37, CIFAR-10 Batch 4:  Loss:     0.7177, Train Accuracy: 0.742574, Validation Accuracy: 0.642600\n",
      "Epoch 37, CIFAR-10 Batch 5:  Loss:     0.6794, Train Accuracy: 0.766089, Validation Accuracy: 0.654200\n",
      "Epoch 38, CIFAR-10 Batch 1:  Loss:     0.7204, Train Accuracy: 0.735148, Validation Accuracy: 0.648800\n",
      "Epoch 38, CIFAR-10 Batch 2:  Loss:     0.7073, Train Accuracy: 0.759901, Validation Accuracy: 0.650000\n",
      "Epoch 38, CIFAR-10 Batch 3:  Loss:     0.7116, Train Accuracy: 0.727723, Validation Accuracy: 0.651000\n",
      "Epoch 38, CIFAR-10 Batch 4:  Loss:     0.7263, Train Accuracy: 0.737624, Validation Accuracy: 0.644400\n",
      "Epoch 38, CIFAR-10 Batch 5:  Loss:     0.6847, Train Accuracy: 0.772277, Validation Accuracy: 0.652200\n",
      "Epoch 39, CIFAR-10 Batch 1:  Loss:     0.6966, Train Accuracy: 0.754951, Validation Accuracy: 0.656200\n",
      "Epoch 39, CIFAR-10 Batch 2:  Loss:     0.6941, Train Accuracy: 0.758663, Validation Accuracy: 0.652200\n",
      "Epoch 39, CIFAR-10 Batch 3:  Loss:     0.7246, Train Accuracy: 0.730198, Validation Accuracy: 0.644000\n",
      "Epoch 39, CIFAR-10 Batch 4:  Loss:     0.7173, Train Accuracy: 0.753713, Validation Accuracy: 0.638200\n",
      "Epoch 39, CIFAR-10 Batch 5:  Loss:     0.6833, Train Accuracy: 0.771040, Validation Accuracy: 0.645800\n",
      "Epoch 40, CIFAR-10 Batch 1:  Loss:     0.7076, Train Accuracy: 0.745049, Validation Accuracy: 0.650000\n",
      "Epoch 40, CIFAR-10 Batch 2:  Loss:     0.6876, Train Accuracy: 0.768564, Validation Accuracy: 0.653200\n",
      "Epoch 40, CIFAR-10 Batch 3:  Loss:     0.6984, Train Accuracy: 0.747525, Validation Accuracy: 0.647000\n",
      "Epoch 40, CIFAR-10 Batch 4:  Loss:     0.6822, Train Accuracy: 0.747525, Validation Accuracy: 0.646400\n",
      "Epoch 40, CIFAR-10 Batch 5:  Loss:     0.6740, Train Accuracy: 0.769802, Validation Accuracy: 0.651200\n",
      "Epoch 41, CIFAR-10 Batch 1:  Loss:     0.6834, Train Accuracy: 0.746287, Validation Accuracy: 0.656200\n",
      "Epoch 41, CIFAR-10 Batch 2:  Loss:     0.6772, Train Accuracy: 0.774752, Validation Accuracy: 0.658000\n",
      "Epoch 41, CIFAR-10 Batch 3:  Loss:     0.6855, Train Accuracy: 0.750000, Validation Accuracy: 0.652800\n",
      "Epoch 41, CIFAR-10 Batch 4:  Loss:     0.6620, Train Accuracy: 0.762376, Validation Accuracy: 0.657200\n",
      "Epoch 41, CIFAR-10 Batch 5:  Loss:     0.6499, Train Accuracy: 0.779703, Validation Accuracy: 0.657600\n",
      "Epoch 42, CIFAR-10 Batch 1:  Loss:     0.6710, Train Accuracy: 0.754951, Validation Accuracy: 0.654800\n",
      "Epoch 42, CIFAR-10 Batch 2:  Loss:     0.6640, Train Accuracy: 0.789604, Validation Accuracy: 0.655600\n",
      "Epoch 42, CIFAR-10 Batch 3:  Loss:     0.6728, Train Accuracy: 0.751238, Validation Accuracy: 0.651600\n",
      "Epoch 42, CIFAR-10 Batch 4:  Loss:     0.6439, Train Accuracy: 0.768564, Validation Accuracy: 0.662600\n",
      "Epoch 42, CIFAR-10 Batch 5:  Loss:     0.6331, Train Accuracy: 0.783416, Validation Accuracy: 0.657200\n",
      "Epoch 43, CIFAR-10 Batch 1:  Loss:     0.6684, Train Accuracy: 0.766089, Validation Accuracy: 0.653400\n",
      "Epoch 43, CIFAR-10 Batch 2:  Loss:     0.6465, Train Accuracy: 0.777228, Validation Accuracy: 0.661800\n",
      "Epoch 43, CIFAR-10 Batch 3:  Loss:     0.6776, Train Accuracy: 0.756188, Validation Accuracy: 0.653200\n",
      "Epoch 43, CIFAR-10 Batch 4:  Loss:     0.6416, Train Accuracy: 0.767327, Validation Accuracy: 0.655200\n",
      "Epoch 43, CIFAR-10 Batch 5:  Loss:     0.6409, Train Accuracy: 0.783416, Validation Accuracy: 0.657800\n",
      "Epoch 44, CIFAR-10 Batch 1:  Loss:     0.6744, Train Accuracy: 0.757426, Validation Accuracy: 0.654000\n",
      "Epoch 44, CIFAR-10 Batch 2:  Loss:     0.6456, Train Accuracy: 0.782178, Validation Accuracy: 0.663600\n",
      "Epoch 44, CIFAR-10 Batch 3:  Loss:     0.6491, Train Accuracy: 0.759901, Validation Accuracy: 0.659800\n",
      "Epoch 44, CIFAR-10 Batch 4:  Loss:     0.6224, Train Accuracy: 0.773515, Validation Accuracy: 0.662600\n",
      "Epoch 44, CIFAR-10 Batch 5:  Loss:     0.6236, Train Accuracy: 0.787129, Validation Accuracy: 0.658400\n",
      "Epoch 45, CIFAR-10 Batch 1:  Loss:     0.6501, Train Accuracy: 0.764852, Validation Accuracy: 0.658800\n",
      "Epoch 45, CIFAR-10 Batch 2:  Loss:     0.6387, Train Accuracy: 0.797030, Validation Accuracy: 0.659600\n",
      "Epoch 45, CIFAR-10 Batch 3:  Loss:     0.6430, Train Accuracy: 0.757426, Validation Accuracy: 0.659400\n",
      "Epoch 45, CIFAR-10 Batch 4:  Loss:     0.6192, Train Accuracy: 0.775990, Validation Accuracy: 0.662200\n",
      "Epoch 45, CIFAR-10 Batch 5:  Loss:     0.6121, Train Accuracy: 0.798267, Validation Accuracy: 0.662000\n",
      "Epoch 46, CIFAR-10 Batch 1:  Loss:     0.6406, Train Accuracy: 0.767327, Validation Accuracy: 0.656600\n",
      "Epoch 46, CIFAR-10 Batch 2:  Loss:     0.6344, Train Accuracy: 0.787129, Validation Accuracy: 0.660600\n",
      "Epoch 46, CIFAR-10 Batch 3:  Loss:     0.6409, Train Accuracy: 0.753713, Validation Accuracy: 0.658800\n",
      "Epoch 46, CIFAR-10 Batch 4:  Loss:     0.6171, Train Accuracy: 0.774752, Validation Accuracy: 0.664800\n",
      "Epoch 46, CIFAR-10 Batch 5:  Loss:     0.6148, Train Accuracy: 0.787129, Validation Accuracy: 0.660800\n",
      "Epoch 47, CIFAR-10 Batch 1:  Loss:     0.6329, Train Accuracy: 0.773515, Validation Accuracy: 0.658800\n",
      "Epoch 47, CIFAR-10 Batch 2:  Loss:     0.6321, Train Accuracy: 0.787129, Validation Accuracy: 0.666000\n",
      "Epoch 47, CIFAR-10 Batch 3:  Loss:     0.6305, Train Accuracy: 0.774752, Validation Accuracy: 0.662800\n",
      "Epoch 47, CIFAR-10 Batch 4:  Loss:     0.6086, Train Accuracy: 0.784653, Validation Accuracy: 0.660200\n",
      "Epoch 47, CIFAR-10 Batch 5:  Loss:     0.5946, Train Accuracy: 0.804455, Validation Accuracy: 0.666200\n",
      "Epoch 48, CIFAR-10 Batch 1:  Loss:     0.6191, Train Accuracy: 0.778465, Validation Accuracy: 0.662400\n",
      "Epoch 48, CIFAR-10 Batch 2:  Loss:     0.6088, Train Accuracy: 0.801980, Validation Accuracy: 0.665400\n"
     ]
    },
    {
     "name": "stdout",
     "output_type": "stream",
     "text": [
      "Epoch 48, CIFAR-10 Batch 3:  Loss:     0.6223, Train Accuracy: 0.782178, Validation Accuracy: 0.663000\n",
      "Epoch 48, CIFAR-10 Batch 4:  Loss:     0.6113, Train Accuracy: 0.785891, Validation Accuracy: 0.656200\n",
      "Epoch 48, CIFAR-10 Batch 5:  Loss:     0.5893, Train Accuracy: 0.799505, Validation Accuracy: 0.667800\n",
      "Epoch 49, CIFAR-10 Batch 1:  Loss:     0.6063, Train Accuracy: 0.767327, Validation Accuracy: 0.659400\n",
      "Epoch 49, CIFAR-10 Batch 2:  Loss:     0.6303, Train Accuracy: 0.780941, Validation Accuracy: 0.659200\n",
      "Epoch 49, CIFAR-10 Batch 3:  Loss:     0.6127, Train Accuracy: 0.783416, Validation Accuracy: 0.665000\n",
      "Epoch 49, CIFAR-10 Batch 4:  Loss:     0.5820, Train Accuracy: 0.801980, Validation Accuracy: 0.664800\n",
      "Epoch 49, CIFAR-10 Batch 5:  Loss:     0.5824, Train Accuracy: 0.801980, Validation Accuracy: 0.667600\n",
      "Epoch 50, CIFAR-10 Batch 1:  Loss:     0.6063, Train Accuracy: 0.779703, Validation Accuracy: 0.658800\n",
      "Epoch 50, CIFAR-10 Batch 2:  Loss:     0.6314, Train Accuracy: 0.779703, Validation Accuracy: 0.662400\n",
      "Epoch 50, CIFAR-10 Batch 3:  Loss:     0.6056, Train Accuracy: 0.769802, Validation Accuracy: 0.663400\n",
      "Epoch 50, CIFAR-10 Batch 4:  Loss:     0.5778, Train Accuracy: 0.795792, Validation Accuracy: 0.666600\n",
      "Epoch 50, CIFAR-10 Batch 5:  Loss:     0.5793, Train Accuracy: 0.793317, Validation Accuracy: 0.665800\n"
     ]
    }
   ],
   "source": [
    "\"\"\"\n",
    "DON'T MODIFY ANYTHING IN THIS CELL\n",
    "\"\"\"\n",
    "save_model_path = './image_classification'\n",
    "\n",
    "print('Training...')\n",
    "with tf.Session() as sess:\n",
    "    # Initializing the variables\n",
    "    sess.run(tf.global_variables_initializer())\n",
    "    \n",
    "    # Training cycle\n",
    "    for epoch in range(epochs):\n",
    "        # Loop over all batches\n",
    "        n_batches = 5\n",
    "        for batch_i in range(1, n_batches + 1):\n",
    "            for batch_features, batch_labels in helper.load_preprocess_training_batch(batch_i, batch_size):\n",
    "                train_neural_network(sess, optimizer, keep_probability, batch_features, batch_labels)\n",
    "            print('Epoch {:>2}, CIFAR-10 Batch {}:  '.format(epoch + 1, batch_i), end='')\n",
    "            print_stats(sess, batch_features, batch_labels, cost, accuracy)\n",
    "            \n",
    "    # Save Model\n",
    "    saver = tf.train.Saver()\n",
    "    save_path = saver.save(sess, save_model_path)"
   ]
  },
  {
   "cell_type": "markdown",
   "metadata": {},
   "source": [
    "# Checkpoint\n",
    "The model has been saved to disk.\n",
    "## Test Model\n",
    "Test your model against the test dataset.  This will be your final accuracy. You should have an accuracy greater than 50%. If you don't, keep tweaking the model architecture and parameters."
   ]
  },
  {
   "cell_type": "code",
   "execution_count": 18,
   "metadata": {},
   "outputs": [
    {
     "name": "stdout",
     "output_type": "stream",
     "text": [
      "Testing Accuracy: 0.6644790351390839\n",
      "\n"
     ]
    },
    {
     "data": {
      "image/png": "[encoded data removed]",
      "text/plain": [
       "<matplotlib.figure.Figure at 0x922cf98>"
      ]
     },
     "metadata": {
      "image/png": {
       "height": 319,
       "width": 355
      }
     },
     "output_type": "display_data"
    }
   ],
   "source": [
    "\"\"\"\n",
    "DON'T MODIFY ANYTHING IN THIS CELL\n",
    "\"\"\"\n",
    "%matplotlib inline\n",
    "%config InlineBackend.figure_format = 'retina'\n",
    "\n",
    "import tensorflow as tf\n",
    "import pickle\n",
    "import helper\n",
    "import random\n",
    "\n",
    "# Set batch size if not already set\n",
    "try:\n",
    "    if batch_size:\n",
    "        pass\n",
    "except NameError:\n",
    "    batch_size = 64\n",
    "\n",
    "save_model_path = './image_classification'\n",
    "n_samples = 4\n",
    "top_n_predictions = 3\n",
    "\n",
    "def test_model():\n",
    "    \"\"\"\n",
    "    Test the saved model against the test dataset\n",
    "    \"\"\"\n",
    "\n",
    "    test_features, test_labels = pickle.load(open('preprocess_test.p', mode='rb'))\n",
    "    loaded_graph = tf.Graph()\n",
    "\n",
    "    with tf.Session(graph=loaded_graph) as sess:\n",
    "        # Load model\n",
    "        loader = tf.train.import_meta_graph(save_model_path + '.meta')\n",
    "        loader.restore(sess, save_model_path)\n",
    "\n",
    "        # Get Tensors from loaded model\n",
    "        loaded_x = loaded_graph.get_tensor_by_name('x:0')\n",
    "        loaded_y = loaded_graph.get_tensor_by_name('y:0')\n",
    "        loaded_keep_prob = loaded_graph.get_tensor_by_name('keep_prob:0')\n",
    "        loaded_logits = loaded_graph.get_tensor_by_name('logits:0')\n",
    "        loaded_acc = loaded_graph.get_tensor_by_name('accuracy:0')\n",
    "        \n",
    "        # Get accuracy in batches for memory limitations\n",
    "        test_batch_acc_total = 0\n",
    "        test_batch_count = 0\n",
    "        \n",
    "        for test_feature_batch, test_label_batch in helper.batch_features_labels(test_features, test_labels, batch_size):\n",
    "            test_batch_acc_total += sess.run(\n",
    "                loaded_acc,\n",
    "                feed_dict={loaded_x: test_feature_batch, loaded_y: test_label_batch, loaded_keep_prob: 1.0})\n",
    "            test_batch_count += 1\n",
    "\n",
    "        print('Testing Accuracy: {}\\n'.format(test_batch_acc_total/test_batch_count))\n",
    "\n",
    "        # Print Random Samples\n",
    "        random_test_features, random_test_labels = tuple(zip(*random.sample(list(zip(test_features, test_labels)), n_samples)))\n",
    "        random_test_predictions = sess.run(\n",
    "            tf.nn.top_k(tf.nn.softmax(loaded_logits), top_n_predictions),\n",
    "            feed_dict={loaded_x: random_test_features, loaded_y: random_test_labels, loaded_keep_prob: 1.0})\n",
    "        helper.display_image_predictions(random_test_features, random_test_labels, random_test_predictions)\n",
    "\n",
    "\n",
    "test_model()"
   ]
  },
  {
   "cell_type": "markdown",
   "metadata": {},
   "source": [
    "## Why 50-80% Accuracy?\n",
    "You might be wondering why you can't get an accuracy any higher. First things first, 50% isn't bad for a simple CNN.  Pure guessing would get you 10% accuracy. However, you might notice people are getting scores [well above 80%](http://rodrigob.github.io/are_we_there_yet/build/classification_datasets_results.html#43494641522d3130).  That's because we haven't taught you all there is to know about neural networks. We still need to cover a few more techniques.\n",
    "## Submitting This Project\n",
    "When submitting this project, make sure to run all the cells before saving the notebook.  Save the notebook file as \"dlnd_image_classification.ipynb\" and save it as a HTML file under \"File\" -> \"Download as\".  Include the \"helper.py\" and \"problem_unittests.py\" files in your submission."
   ]
  }
 ],
 "metadata": {
  "kernelspec": {
   "display_name": "Python 3",
   "language": "python",
   "name": "python3"
  },
  "language_info": {
   "codemirror_mode": {
    "name": "ipython",
    "version": 3
   },
   "file_extension": ".py",
   "mimetype": "text/x-python",
   "name": "python",
   "nbconvert_exporter": "python",
   "pygments_lexer": "ipython3",
   "version": "3.5.3"
  }
 },
 "nbformat": 4,
 "nbformat_minor": 1
}
